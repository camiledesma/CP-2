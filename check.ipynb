{
 "cells": [
  {
   "cell_type": "code",
   "execution_count": 204,
   "metadata": {},
   "outputs": [],
   "source": [
    "import pandas as pd"
   ]
  },
  {
   "cell_type": "code",
   "execution_count": 146,
   "metadata": {},
   "outputs": [
    {
     "data": {
      "text/html": [
       "<div>\n",
       "<style scoped>\n",
       "    .dataframe tbody tr th:only-of-type {\n",
       "        vertical-align: middle;\n",
       "    }\n",
       "\n",
       "    .dataframe tbody tr th {\n",
       "        vertical-align: top;\n",
       "    }\n",
       "\n",
       "    .dataframe thead th {\n",
       "        text-align: right;\n",
       "    }\n",
       "</style>\n",
       "<table border=\"1\" class=\"dataframe\">\n",
       "  <thead>\n",
       "    <tr style=\"text-align: right;\">\n",
       "      <th></th>\n",
       "      <th>Entity</th>\n",
       "      <th>Code</th>\n",
       "      <th>Year</th>\n",
       "      <th>Coal_Consumption_EJ</th>\n",
       "      <th>Gas_Consumption_EJ</th>\n",
       "      <th>Geo_Biomass_Other_TWh</th>\n",
       "      <th>Hydro_Generation_TWh</th>\n",
       "      <th>Nuclear_Generation_TWh</th>\n",
       "      <th>Solar_Generation_TWh</th>\n",
       "      <th>Wind_Generation_TWh</th>\n",
       "      <th>Oil_Consumption_EJ</th>\n",
       "    </tr>\n",
       "  </thead>\n",
       "  <tbody>\n",
       "    <tr>\n",
       "      <th>0</th>\n",
       "      <td>Africa</td>\n",
       "      <td>NaN</td>\n",
       "      <td>1965</td>\n",
       "      <td>1.164586</td>\n",
       "      <td>0.034358</td>\n",
       "      <td>0.0</td>\n",
       "      <td>13.905635</td>\n",
       "      <td>0.0</td>\n",
       "      <td>0.0</td>\n",
       "      <td>0.0</td>\n",
       "      <td>1.173241</td>\n",
       "    </tr>\n",
       "    <tr>\n",
       "      <th>1</th>\n",
       "      <td>Africa</td>\n",
       "      <td>NaN</td>\n",
       "      <td>1966</td>\n",
       "      <td>1.163240</td>\n",
       "      <td>0.038412</td>\n",
       "      <td>0.0</td>\n",
       "      <td>15.510004</td>\n",
       "      <td>0.0</td>\n",
       "      <td>0.0</td>\n",
       "      <td>0.0</td>\n",
       "      <td>1.284154</td>\n",
       "    </tr>\n",
       "    <tr>\n",
       "      <th>2</th>\n",
       "      <td>Africa</td>\n",
       "      <td>NaN</td>\n",
       "      <td>1967</td>\n",
       "      <td>1.189050</td>\n",
       "      <td>0.037964</td>\n",
       "      <td>0.0</td>\n",
       "      <td>16.190636</td>\n",
       "      <td>0.0</td>\n",
       "      <td>0.0</td>\n",
       "      <td>0.0</td>\n",
       "      <td>1.273799</td>\n",
       "    </tr>\n",
       "  </tbody>\n",
       "</table>\n",
       "</div>"
      ],
      "text/plain": [
       "   Entity Code  Year  Coal_Consumption_EJ  Gas_Consumption_EJ  \\\n",
       "0  Africa  NaN  1965             1.164586            0.034358   \n",
       "1  Africa  NaN  1966             1.163240            0.038412   \n",
       "2  Africa  NaN  1967             1.189050            0.037964   \n",
       "\n",
       "   Geo_Biomass_Other_TWh  Hydro_Generation_TWh  Nuclear_Generation_TWh  \\\n",
       "0                    0.0             13.905635                     0.0   \n",
       "1                    0.0             15.510004                     0.0   \n",
       "2                    0.0             16.190636                     0.0   \n",
       "\n",
       "   Solar_Generation_TWh  Wind_Generation_TWh  Oil_Consumption_EJ  \n",
       "0                   0.0                  0.0            1.173241  \n",
       "1                   0.0                  0.0            1.284154  \n",
       "2                   0.0                  0.0            1.273799  "
      ]
     },
     "execution_count": 146,
     "metadata": {},
     "output_type": "execute_result"
    }
   ],
   "source": [
    "\n",
    "df=pd.read_csv(r\"C:\\Users\\lenovo\\Desktop\\CP05_04_01\\datasets/Fuentes_Consumo_Energia.csv\", encoding=\"UTF-8\")\n",
    "df.head(3)\n",
    "    "
   ]
  },
  {
   "cell_type": "code",
   "execution_count": 7,
   "metadata": {},
   "outputs": [
    {
     "data": {
      "text/plain": [
       "(5190, 11)"
      ]
     },
     "execution_count": 7,
     "metadata": {},
     "output_type": "execute_result"
    }
   ],
   "source": [
    "df.shape"
   ]
  },
  {
   "cell_type": "code",
   "execution_count": 19,
   "metadata": {},
   "outputs": [
    {
     "data": {
      "text/plain": [
       "(55, 55)"
      ]
     },
     "execution_count": 19,
     "metadata": {},
     "output_type": "execute_result"
    }
   ],
   "source": [
    "Colom= df[\"Entity\"].value_counts()[\"Colombia\"]\n",
    "Mex= df[\"Entity\"].value_counts()[\"Mexico\"]\n",
    "tupla=(Colom, Mex)\n",
    "tupla\n",
    "\n"
   ]
  },
  {
   "cell_type": "code",
   "execution_count": 64,
   "metadata": {},
   "outputs": [
    {
     "data": {
      "text/plain": [
       "9"
      ]
     },
     "execution_count": 64,
     "metadata": {},
     "output_type": "execute_result"
    }
   ],
   "source": [
    "\n",
    "    #Esta función debe eliminar las columnas 'Code' y 'Entity' y luego informar la cantidad de columnas\n",
    "    #retornando ese valor en un dato de tipo entero\n",
    "col= [\"Code\", \"Entity\"]\n",
    "df1=df.drop(col, axis=1)\n",
    "h=int(df1.shape[1])\n",
    "\n"
   ]
  },
  {
   "cell_type": "code",
   "execution_count": 57,
   "metadata": {},
   "outputs": [],
   "source": [
    "def Ret_Pregunta02():\n",
    "    df=pd.read_csv(r\"C:\\Users\\lenovo\\Desktop\\CP05_04_01\\datasets/Fuentes_Consumo_Energia.csv\", encoding=\"UTF-8\")\n",
    "    col= [\"Code\", \"Entity\"]\n",
    "    df1=df.drop(col, axis=1)\n",
    "    cantcolum=df1.shape\n",
    "    return df1, cantcolum"
   ]
  },
  {
   "attachments": {},
   "cell_type": "markdown",
   "metadata": {},
   "source": [
    "Esta función debe informar la cantidad de registros de la columna Year sin tener en cuenta aquellos con valores faltantes\n",
    "    retornando ese valor en un dato de tipo entero."
   ]
  },
  {
   "cell_type": "code",
   "execution_count": 155,
   "metadata": {},
   "outputs": [
    {
     "data": {
      "text/plain": [
       "(5190, 11)"
      ]
     },
     "execution_count": 155,
     "metadata": {},
     "output_type": "execute_result"
    }
   ],
   "source": [
    "df.shape"
   ]
  },
  {
   "cell_type": "code",
   "execution_count": 81,
   "metadata": {},
   "outputs": [
    {
     "name": "stdout",
     "output_type": "stream",
     "text": [
      "<class 'pandas.core.frame.DataFrame'>\n",
      "RangeIndex: 5190 entries, 0 to 5189\n",
      "Data columns (total 11 columns):\n",
      " #   Column                  Non-Null Count  Dtype  \n",
      "---  ------                  --------------  -----  \n",
      " 0   Entity                  5190 non-null   object \n",
      " 1   Code                    4145 non-null   object \n",
      " 2   Year                    5190 non-null   int64  \n",
      " 3   Coal_Consumption_EJ     5170 non-null   float64\n",
      " 4   Gas_Consumption_EJ      5170 non-null   float64\n",
      " 5   Geo_Biomass_Other_TWh   5115 non-null   float64\n",
      " 6   Hydro_Generation_TWh    5170 non-null   float64\n",
      " 7   Nuclear_Generation_TWh  5170 non-null   float64\n",
      " 8   Solar_Generation_TWh    5170 non-null   float64\n",
      " 9   Wind_Generation_TWh     5170 non-null   float64\n",
      " 10  Oil_Consumption_EJ      5184 non-null   float64\n",
      "dtypes: float64(8), int64(1), object(2)\n",
      "memory usage: 446.1+ KB\n",
      "Entity                       0\n",
      "Code                      1045\n",
      "Year                         0\n",
      "Coal_Consumption_EJ         20\n",
      "Gas_Consumption_EJ          20\n",
      "Geo_Biomass_Other_TWh       75\n",
      "Hydro_Generation_TWh        20\n",
      "Nuclear_Generation_TWh      20\n",
      "Solar_Generation_TWh        20\n",
      "Wind_Generation_TWh         20\n",
      "Oil_Consumption_EJ           6\n",
      "dtype: int64\n"
     ]
    },
    {
     "data": {
      "text/plain": [
       "<bound method Series.count of 0       1965\n",
       "1       1966\n",
       "2       1967\n",
       "3       1968\n",
       "4       1969\n",
       "        ... \n",
       "5185    2015\n",
       "5186    2016\n",
       "5187    2017\n",
       "5188    2018\n",
       "5189    2019\n",
       "Name: Year, Length: 5190, dtype: int64>"
      ]
     },
     "execution_count": 81,
     "metadata": {},
     "output_type": "execute_result"
    }
   ],
   "source": [
    "df.info()\n",
    "print(df.isna().sum())\n",
    "#No hay valores faltantes en la columna Year\n",
    "Cant_Reg=df[\"Year\"].count\n",
    "Cant_Reg\n",
    "\n",
    "\n"
   ]
  },
  {
   "cell_type": "code",
   "execution_count": 83,
   "metadata": {},
   "outputs": [
    {
     "data": {
      "text/plain": [
       "5190"
      ]
     },
     "execution_count": 83,
     "metadata": {},
     "output_type": "execute_result"
    }
   ],
   "source": [
    "\n",
    "Cant_Reg=df[\"Year\"].count()\n",
    "Cant_Reg"
   ]
  },
  {
   "attachments": {},
   "cell_type": "markdown",
   "metadata": {},
   "source": [
    " Esta función debe informar el año de mayor generación de energía hídrica (Hydro_Generation_TWh)\n",
    "    para la entidad 'Europe' retornando ese valor en un dato de tipo entero.\n",
    "    '''"
   ]
  },
  {
   "cell_type": "code",
   "execution_count": 173,
   "metadata": {},
   "outputs": [
    {
     "data": {
      "text/plain": [
       "2013"
      ]
     },
     "execution_count": 173,
     "metadata": {},
     "output_type": "execute_result"
    }
   ],
   "source": [
    "Europa=df[df[\"Entity\"]==\"Europe\"]\n",
    "Energia_Europa=Europa[\"Year\"][Europa[\"Hydro_Generation_TWh\"].idxmax()]\n",
    "Energia_Europa"
   ]
  },
  {
   "cell_type": "code",
   "execution_count": 180,
   "metadata": {},
   "outputs": [],
   "source": [
    "import numpy as np\n"
   ]
  },
  {
   "cell_type": "code",
   "execution_count": 195,
   "metadata": {},
   "outputs": [
    {
     "name": "stdout",
     "output_type": "stream",
     "text": [
      "[[0 0 0]\n",
      " [1 1 1]\n",
      " [2 2 2]]\n"
     ]
    }
   ],
   "source": [
    "m1 = np.array([[0,0,0],[1,1,1],[2,2,2]])\n",
    "print(n1)"
   ]
  },
  {
   "cell_type": "code",
   "execution_count": 196,
   "metadata": {},
   "outputs": [
    {
     "name": "stdout",
     "output_type": "stream",
     "text": [
      "[[3 3]\n",
      " [4 4]\n",
      " [5 5]]\n"
     ]
    }
   ],
   "source": [
    "m2 = np.array([[3,3],[4,4],[5,5]])\n",
    "print(n2)"
   ]
  },
  {
   "cell_type": "code",
   "execution_count": 197,
   "metadata": {},
   "outputs": [
    {
     "name": "stdout",
     "output_type": "stream",
     "text": [
      "[[1 1]\n",
      " [2 2]]\n"
     ]
    }
   ],
   "source": [
    "m3 = np.array([[1,1],[2,2]])\n",
    "print(n3)"
   ]
  },
  {
   "cell_type": "code",
   "execution_count": 198,
   "metadata": {},
   "outputs": [],
   "source": [
    "def Ret_Pregunta06():\n",
    "    if (m1.shape[1] == m2.shape[0] and m2.shape[1] == m3.shape[0]):\n",
    "        return True\n",
    "    else:\n",
    "        return False"
   ]
  },
  {
   "cell_type": "code",
   "execution_count": 206,
   "metadata": {},
   "outputs": [
    {
     "data": {
      "text/html": [
       "<div>\n",
       "<style scoped>\n",
       "    .dataframe tbody tr th:only-of-type {\n",
       "        vertical-align: middle;\n",
       "    }\n",
       "\n",
       "    .dataframe tbody tr th {\n",
       "        vertical-align: top;\n",
       "    }\n",
       "\n",
       "    .dataframe thead th {\n",
       "        text-align: right;\n",
       "    }\n",
       "</style>\n",
       "<table border=\"1\" class=\"dataframe\">\n",
       "  <thead>\n",
       "    <tr style=\"text-align: right;\">\n",
       "      <th></th>\n",
       "      <th>especie</th>\n",
       "      <th>fecha</th>\n",
       "      <th>apertura</th>\n",
       "      <th>maximo</th>\n",
       "      <th>minimo</th>\n",
       "      <th>cierre</th>\n",
       "      <th>volumen</th>\n",
       "      <th>timestamp</th>\n",
       "    </tr>\n",
       "  </thead>\n",
       "  <tbody>\n",
       "    <tr>\n",
       "      <th>0</th>\n",
       "      <td>GGAL</td>\n",
       "      <td>02/01/1991</td>\n",
       "      <td>0.02338</td>\n",
       "      <td>0.02338</td>\n",
       "      <td>0.02313</td>\n",
       "      <td>0.02338</td>\n",
       "      <td>0</td>\n",
       "      <td>662781600</td>\n",
       "    </tr>\n",
       "    <tr>\n",
       "      <th>1</th>\n",
       "      <td>GGAL</td>\n",
       "      <td>03/01/1991</td>\n",
       "      <td>0.02289</td>\n",
       "      <td>0.02289</td>\n",
       "      <td>0.02251</td>\n",
       "      <td>0.02289</td>\n",
       "      <td>0</td>\n",
       "      <td>662868000</td>\n",
       "    </tr>\n",
       "  </tbody>\n",
       "</table>\n",
       "</div>"
      ],
      "text/plain": [
       "  especie       fecha  apertura   maximo   minimo   cierre  volumen  timestamp\n",
       "0    GGAL  02/01/1991   0.02338  0.02338  0.02313  0.02338        0  662781600\n",
       "1    GGAL  03/01/1991   0.02289  0.02289  0.02251  0.02289        0  662868000"
      ]
     },
     "execution_count": 206,
     "metadata": {},
     "output_type": "execute_result"
    }
   ],
   "source": [
    "df=pd.read_csv(r\"C:\\Users\\lenovo\\Desktop\\CP05_04_01\\datasets/GGAL - Cotizaciones historicas.csv\", encoding=\"UTF-8\")\n",
    "df.head(2)"
   ]
  },
  {
   "cell_type": "code",
   "execution_count": 217,
   "metadata": {},
   "outputs": [
    {
     "data": {
      "text/plain": [
       "202185.8933"
      ]
     },
     "execution_count": 217,
     "metadata": {},
     "output_type": "execute_result"
    }
   ],
   "source": [
    "#Esta función debe tomar la columna máximo y \n",
    "#devolver la suma de los valores de esta, con 4 decimales después del punto, redondeado.\n",
    "Suma=df[\"maximo\"].sum()\n",
    "round(Suma,4)"
   ]
  }
 ],
 "metadata": {
  "kernelspec": {
   "display_name": "Python 3",
   "language": "python",
   "name": "python3"
  },
  "language_info": {
   "codemirror_mode": {
    "name": "ipython",
    "version": 3
   },
   "file_extension": ".py",
   "mimetype": "text/x-python",
   "name": "python",
   "nbconvert_exporter": "python",
   "pygments_lexer": "ipython3",
   "version": "3.11.2"
  },
  "orig_nbformat": 4
 },
 "nbformat": 4,
 "nbformat_minor": 2
}
